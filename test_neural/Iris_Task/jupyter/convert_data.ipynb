{
 "cells": [
  {
   "cell_type": "code",
   "execution_count": 1,
   "metadata": {},
   "outputs": [],
   "source": [
    "import torch\n",
    "import numpy as np\n",
    "import matplotlib.pyplot as plt\n",
    "\n",
    "\n",
    "import csv\n",
    "import torch.nn as nn\n",
    "import torch.nn.functional as F\n"
   ]
  },
  {
   "cell_type": "code",
   "execution_count": 2,
   "metadata": {},
   "outputs": [],
   "source": [
    "filename = \"../iris.data\"\n",
    "data = []\n",
    "answer = []\n",
    "with open(filename,\"r\") as f:\n",
    "    reader = csv.reader(f)\n",
    "    for row in reader:\n",
    "        if len(row)!=0:\n",
    "            if row[4]=='Iris-setosa':\n",
    "                ans=[1,0,0]\n",
    "            elif row[4] ==  'Iris-versicolor':\n",
    "                ans = [0,1,0]\n",
    "            elif row[4] ==  'Iris-virginica':\n",
    "                ans = [0,0,1]\n",
    "            data.append(row[:-1])\n",
    "            answer.append(ans)\n",
    "        \n",
    "            "
   ]
  },
  {
   "cell_type": "code",
   "execution_count": 3,
   "metadata": {},
   "outputs": [],
   "source": [
    "d1 = data[:50]\n",
    "d2 = data[50:100]\n",
    "d3 = data[100:150]\n",
    "a1 = answer[:50]\n",
    "a2 = answer[50:100]\n",
    "a3 = answer[100:150]\n",
    "train = []\n",
    "check = []\n",
    "train_a = []\n",
    "check_a = []\n",
    "for n in range(50):\n",
    "    if n<33:\n",
    "        train.append(d1[n])\n",
    "        train.append(d2[n])\n",
    "        train.append(d3[n])\n",
    "        train_a.append(a1[n])\n",
    "        train_a.append(a2[n])\n",
    "        train_a.append(a3[n])\n",
    "    else:\n",
    "        check.append(d1[n])\n",
    "        check.append(d2[n])\n",
    "        check.append(d3[n])\n",
    "        check_a.append(a1[n])\n",
    "        check_a.append(a2[n])\n",
    "        check_a.append(a3[n])\n"
   ]
  },
  {
   "cell_type": "code",
   "execution_count": 4,
   "metadata": {},
   "outputs": [],
   "source": [
    "train = np.array(train,dtype=np.float32)\n",
    "train_a = np.array(train_a,dtype=np.float32)\n",
    "check = np.array(check,dtype=np.float32)\n",
    "check_a = np.array(check_a,dtype=np.float32)"
   ]
  },
  {
   "cell_type": "code",
   "execution_count": 5,
   "metadata": {},
   "outputs": [],
   "source": [
    "def dataToTensor(x):\n",
    "    data = torch.from_numpy(x)\n",
    "    return data"
   ]
  },
  {
   "cell_type": "code",
   "execution_count": 55,
   "metadata": {},
   "outputs": [],
   "source": [
    "class Net(nn.Module):\n",
    "    def __init__(self):\n",
    "        super(Net,self).__init__()\n",
    "        self.fc1 = nn.Linear(1,5)\n",
    "        self.fc2 = nn.Linear(5,4)\n",
    "        self.fc3 = nn.Linear(4,2)\n",
    "        self.fc4 = nn.Linear(4,3)\n",
    "        self.fc5 = nn.Linear(2,1)\n",
    "        self.relu = nn.Sigmoid()\n",
    "    \n",
    "    def forward(self,x):\n",
    "        x = self.relu(self.fc1(x))\n",
    "        x = self.relu(self.fc2(x))\n",
    "        x = self.relu(self.fc3(x))\n",
    "        x = self.relu(self.fc4(x.T).T)\n",
    "        x = self.relu(self.fc5(x))\n",
    "        return x.reshape(3,1)\n",
    "    "
   ]
  },
  {
   "cell_type": "code",
   "execution_count": 56,
   "metadata": {},
   "outputs": [],
   "source": [
    "model = Net()\n",
    "criterion = nn.MSELoss()\n",
    "\n",
    "optimizer = torch.optim.Adam(model.parameters(),lr=0.01)"
   ]
  },
  {
   "cell_type": "code",
   "execution_count": 64,
   "metadata": {},
   "outputs": [
    {
     "name": "stdout",
     "output_type": "stream",
     "text": [
      "Epoch: 0\tLoss: 0.000030\n",
      "\n",
      "Epoch: 1\tLoss: 0.000027\n",
      "\n",
      "Epoch: 2\tLoss: 0.000024\n",
      "\n",
      "Epoch: 3\tLoss: 0.000021\n",
      "\n",
      "Epoch: 4\tLoss: 0.000019\n",
      "\n",
      "Epoch: 5\tLoss: 0.000017\n",
      "\n",
      "Epoch: 6\tLoss: 0.000016\n",
      "\n",
      "Epoch: 7\tLoss: 0.000015\n",
      "\n",
      "Epoch: 8\tLoss: 0.000013\n",
      "\n",
      "Epoch: 9\tLoss: 0.000012\n",
      "\n",
      "Epoch: 10\tLoss: 0.000011\n",
      "\n",
      "Epoch: 11\tLoss: 0.000011\n",
      "\n",
      "Epoch: 12\tLoss: 0.000010\n",
      "\n",
      "Epoch: 13\tLoss: 0.000010\n",
      "\n",
      "Epoch: 14\tLoss: 0.000009\n",
      "\n",
      "Epoch: 15\tLoss: 0.000009\n",
      "\n",
      "Epoch: 16\tLoss: 0.000009\n",
      "\n",
      "Epoch: 17\tLoss: 0.000009\n",
      "\n",
      "Epoch: 18\tLoss: 0.000009\n",
      "\n",
      "Epoch: 19\tLoss: 0.000009\n",
      "\n"
     ]
    }
   ],
   "source": [
    "for epoch in range(20):\n",
    "    for n in range(len(train)):\n",
    "        data = dataToTensor(train[n]).reshape(4,1)\n",
    "        ans = dataToTensor(train_a[n]).reshape(3,1)\n",
    "        output = model(data)\n",
    "#         print(output,\"\\n\",ans,\"\\n\",\"*****\"*3)\n",
    "#         print(output.size(),ans.size())\n",
    "        loss = criterion(output,ans)\n",
    "        \n",
    "        print(\"Epoch: %i\\tLoss: %f\" %(epoch,loss),end=\"\\r\")\n",
    "        optimizer.zero_grad()\n",
    "        loss.backward()\n",
    "        optimizer.step()\n",
    "    print(\"\\n\")"
   ]
  },
  {
   "cell_type": "code",
   "execution_count": 85,
   "metadata": {},
   "outputs": [],
   "source": [
    "correct = 0\n",
    "total = len(check)\n",
    "checkList = []"
   ]
  },
  {
   "cell_type": "code",
   "execution_count": 86,
   "metadata": {},
   "outputs": [
    {
     "name": "stdout",
     "output_type": "stream",
     "text": [
      "Total predict is: 96.078431 %\n",
      "correct is: 49.000000\n"
     ]
    }
   ],
   "source": [
    "for n in range(total):\n",
    "    checkList = []\n",
    "    data = dataToTensor(check[n]).reshape(4,1)\n",
    "    ans = dataToTensor(check_a[n]).float().reshape(1,3)\n",
    "    output = model(data)\n",
    "#     print(output)\n",
    "#     print(ans)\n",
    "    for i in output.data:\n",
    "        \n",
    "        if i.item() == torch.max(output.data):\n",
    "            checkList.append(1)\n",
    "        else:\n",
    "            checkList.append(0)\n",
    "        \n",
    "    checkTensor = torch.tensor(checkList).reshape(1,3)\n",
    "    if torch.all(torch.eq(checkTensor,ans)):\n",
    "        correct+=1\n",
    "    proc = (correct/total)*100\n",
    "print(\"Total predict is: %f %%\" %proc)\n",
    "print(\"correct is: %f\" %correct)"
   ]
  },
  {
   "cell_type": "code",
   "execution_count": null,
   "metadata": {},
   "outputs": [],
   "source": []
  },
  {
   "cell_type": "code",
   "execution_count": 30,
   "metadata": {
    "collapsed": true
   },
   "outputs": [
    {
     "name": "stdout",
     "output_type": "stream",
     "text": [
      "tensor([0.3371])\n",
      "tensor([0.3371])\n",
      "tensor([0.])\n"
     ]
    }
   ],
   "source": [
    "r"
   ]
  },
  {
   "cell_type": "code",
   "execution_count": 29,
   "metadata": {},
   "outputs": [
    {
     "data": {
      "text/plain": [
       "tensor([[0.3371],\n",
       "        [0.3371],\n",
       "        [0.0000]])"
      ]
     },
     "execution_count": 29,
     "metadata": {},
     "output_type": "execute_result"
    }
   ],
   "source": [
    "output"
   ]
  }
 ],
 "metadata": {
  "kernelspec": {
   "display_name": "Python 3",
   "language": "python",
   "name": "python3"
  },
  "language_info": {
   "codemirror_mode": {
    "name": "ipython",
    "version": 3
   },
   "file_extension": ".py",
   "mimetype": "text/x-python",
   "name": "python",
   "nbconvert_exporter": "python",
   "pygments_lexer": "ipython3",
   "version": "3.8.3"
  }
 },
 "nbformat": 4,
 "nbformat_minor": 4
}
